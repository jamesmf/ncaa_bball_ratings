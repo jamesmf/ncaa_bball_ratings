{
 "cells": [
  {
   "cell_type": "code",
   "execution_count": null,
   "id": "cca25f0b",
   "metadata": {},
   "outputs": [],
   "source": [
    "# ! pip install --upgrade mlflow"
   ]
  },
  {
   "cell_type": "code",
   "execution_count": null,
   "id": "90058632",
   "metadata": {},
   "outputs": [],
   "source": [
    "import typing as T\n",
    "import os\n",
    "import datetime\n",
    "import json\n",
    "\n",
    "import arviz as az\n",
    "import matplotlib.pyplot as plt\n",
    "import numpy as np\n",
    "import pandas as pd\n",
    "import pymc as pm\n",
    "from scipy.stats import linregress, kendalltau, spearmanr\n",
    "from scipy.sparse import csr\n",
    "import mlflow\n",
    "\n",
    "from power_ratings import pm_training as pmt"
   ]
  },
  {
   "cell_type": "code",
   "execution_count": null,
   "id": "ddae5685",
   "metadata": {},
   "outputs": [],
   "source": [
    "# ! pip install nb-black\n",
    "# %load_ext nb_black"
   ]
  },
  {
   "cell_type": "code",
   "execution_count": null,
   "id": "46b118b4",
   "metadata": {},
   "outputs": [],
   "source": [
    "mlflow.set_experiment(\"feature-generation-2023\")\n",
    "mlflow.sklearn.autolog()"
   ]
  },
  {
   "cell_type": "code",
   "execution_count": null,
   "id": "30c4c966",
   "metadata": {},
   "outputs": [],
   "source": [
    "# read in game data, team names, and previously-calculated Elo scores for comparison\n",
    "# seasons = [2020, 2021, 2022, 2023]\n",
    "seasons = None\n",
    "\n",
    "\n",
    "def generate_all_season_features(prefix: str, seasons: T.Optional[T.List[int]]):\n",
    "    games_df, elo_df, teamnames = pmt.read_in_data(prefix, seasons=seasons)\n",
    "    if prefix == \"M\":\n",
    "        pre_scaler = pmt.M_PRE_SCALER\n",
    "        pre_base = pmt.M_PRE_BASE\n",
    "    else:\n",
    "        pre_scaler = pmt.W_PRE_SCALER\n",
    "        pre_base = pmt.W_PRE_BASE\n",
    "    ratings_df = pmt.train_model_all_years(\n",
    "        games_df,\n",
    "        pre_scaler=pre_scaler,\n",
    "        pre_base=pre_base,\n",
    "        seasons=seasons,\n",
    "    )\n",
    "    output, joined = pmt.join_datasets(ratings_df, elo_df, teamnames)\n",
    "\n",
    "    output.to_csv(f\"data/{prefix}_data_interim.csv\", index=False)\n",
    "    joined.to_csv(f\"data/{prefix}_features_interim.csv\", index=False)\n",
    "\n",
    "    df_for_eff = pmt.get_df_for_eff(prefix)\n",
    "    new_features = pmt.get_full_features(\n",
    "        df_for_eff, output.set_index([\"Season\", \"TeamID\"])\n",
    "    )\n",
    "    new_features = new_features[[\n",
    "        \"Season\",\n",
    "        \"TeamName\",\n",
    "        \"CombinedRating\",\n",
    "        \"OffensiveRating\",\n",
    "        \"DefensiveRating\",\n",
    "        \"EloWithScore\",\n",
    "        \"EloWinLoss\",\n",
    "        \"EloDelta21Days\",\n",
    "        \"PossessionEfficiencyFactor\",\n",
    "        \"TempoEstimate\",\n",
    "        \"ScoreVariance\",\n",
    "    ]]\n",
    "    new_features.to_csv(f\"output/{prefix}_data_complete.csv\", index=False)\n",
    "    mlflow.log_artifact(f\"output/{prefix}_data_complete.csv\")\n",
    "    return new_features"
   ]
  },
  {
   "cell_type": "code",
   "execution_count": null,
   "id": "fcb3b0df",
   "metadata": {
    "scrolled": false
   },
   "outputs": [],
   "source": [
    "m = generate_all_season_features(\"M\", seasons=seasons)\n",
    "w = generate_all_season_features(\"W\", seasons=seasons)"
   ]
  },
  {
   "cell_type": "code",
   "execution_count": null,
   "id": "a9195ff3",
   "metadata": {},
   "outputs": [],
   "source": [
    "with open(\"output/build_data.json\", 'w') as f:\n",
    "    json.dump({\"build_date\": datetime.date.today().strftime('%Y-%m-%d')}, f)"
   ]
  },
  {
   "cell_type": "code",
   "execution_count": null,
   "id": "deeff058",
   "metadata": {},
   "outputs": [],
   "source": [
    "print(kendalltau(m.OffensiveRating, m.DefensiveRating))\n",
    "print(spearmanr(m.OffensiveRating, m.DefensiveRating))\n",
    "print(linregress(m.OffensiveRating, m.DefensiveRating).rvalue ** 2)"
   ]
  }
 ],
 "metadata": {
  "kernelspec": {
   "display_name": "Python 3 (ipykernel)",
   "language": "python",
   "name": "python3"
  },
  "language_info": {
   "codemirror_mode": {
    "name": "ipython",
    "version": 3
   },
   "file_extension": ".py",
   "mimetype": "text/x-python",
   "name": "python",
   "nbconvert_exporter": "python",
   "pygments_lexer": "ipython3",
   "version": "3.9.16"
  }
 },
 "nbformat": 4,
 "nbformat_minor": 5
}
