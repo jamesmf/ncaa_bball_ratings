{
 "cells": [
  {
   "cell_type": "code",
   "execution_count": null,
   "id": "cca25f0b",
   "metadata": {},
   "outputs": [],
   "source": [
    "# ! pip install --upgrade mlflow"
   ]
  },
  {
   "cell_type": "code",
   "execution_count": null,
   "id": "90058632",
   "metadata": {},
   "outputs": [],
   "source": [
    "import typing as T\n",
    "import os\n",
    "import datetime\n",
    "import json\n",
    "\n",
    "import arviz as az\n",
    "import matplotlib.pyplot as plt\n",
    "import numpy as np\n",
    "import pandas as pd\n",
    "import pymc as pm\n",
    "from scipy.stats import linregress, kendalltau, spearmanr\n",
    "from scipy.sparse import csr\n",
    "import mlflow\n",
    "\n",
    "from power_ratings import pm_training as pmt"
   ]
  },
  {
   "cell_type": "code",
   "execution_count": null,
   "id": "ddae5685",
   "metadata": {},
   "outputs": [],
   "source": [
    "# ! pip install nb-black\n",
    "# %load_ext nb_black"
   ]
  },
  {
   "cell_type": "code",
   "execution_count": null,
   "id": "46b118b4",
   "metadata": {},
   "outputs": [],
   "source": [
    "mlflow.set_experiment(\"feature-generation-2023b\")\n",
    "mlflow.sklearn.autolog()"
   ]
  },
  {
   "cell_type": "code",
   "execution_count": null,
   "id": "30c4c966",
   "metadata": {},
   "outputs": [],
   "source": [
    "# read in game data, team names, and previously-calculated Elo scores for comparison\n",
    "# seasons = [2020, 2021, 2022, 2023]\n",
    "seasons = None\n",
    "\n",
    "\n",
    "def generate_all_season_features(prefix: str, seasons: T.Optional[T.List[int]], starting_daynum: int=0):\n",
    "    games_df, elo_df, teamnames = pmt.read_in_data(prefix, seasons=seasons, starting_daynum=starting_daynum)\n",
    "    print(f\"Max DayNum {games_df[games_df.Season == games_df.Season.max()].DayNum.max()}\")\n",
    "    if prefix == \"M\":\n",
    "        pre_scaler = pmt.M_PRE_SCALER\n",
    "        pre_base = pmt.M_PRE_BASE\n",
    "    else:\n",
    "        pre_scaler = pmt.W_PRE_SCALER\n",
    "        pre_base = pmt.W_PRE_BASE\n",
    "    ratings_df = pmt.train_model_all_years(\n",
    "        games_df,\n",
    "        pre_scaler=pre_scaler,\n",
    "        pre_base=pre_base,\n",
    "        seasons=seasons,\n",
    "    )\n",
    "    output, joined = pmt.join_datasets(ratings_df, elo_df, teamnames)\n",
    "\n",
    "    output.to_csv(f\"data/{prefix}_data_interim.csv\", index=False)\n",
    "    joined.to_csv(f\"data/{prefix}_features_interim.csv\", index=False)\n",
    "\n",
    "    df_for_eff = pmt.get_df_for_eff(prefix)\n",
    "    new_features = pmt.get_full_features(\n",
    "        df_for_eff, output.set_index([\"Season\", \"TeamID\"]), prefix\n",
    "    )\n",
    "    new_features = new_features[[\n",
    "        \"Season\",\n",
    "        \"TeamName\",\n",
    "        \"TeamID\",\n",
    "        \"WP16\",\n",
    "        \"CombinedRating\",\n",
    "        \"OffensiveRating\",\n",
    "        \"DefensiveRating\",\n",
    "        \"EloWithScore\",\n",
    "        \"EloWinLoss\",\n",
    "        \"EloDelta21Days\",\n",
    "        \"PossessionEfficiencyFactor\",\n",
    "        \"TempoEstimate\",\n",
    "        \"ScoreVariance\",\n",
    "                    \"EloDay30WithScore\",\n",
    "            \"EloDay30WinLoss\",\n",
    "    ]]\n",
    "    new_features.to_csv(f\"output/{prefix}_data_complete.csv\", index=False)\n",
    "    mlflow.log_artifact(f\"output/{prefix}_data_complete.csv\")\n",
    "    return new_features"
   ]
  },
  {
   "cell_type": "code",
   "execution_count": null,
   "id": "fcb3b0df",
   "metadata": {
    "scrolled": false
   },
   "outputs": [],
   "source": [
    "m = generate_all_season_features(\"M\", seasons=seasons)\n",
    "w = generate_all_season_features(\"W\", seasons=seasons)"
   ]
  },
  {
   "cell_type": "code",
   "execution_count": null,
   "id": "5e6e4b6f",
   "metadata": {},
   "outputs": [],
   "source": [
    "m.sort_values(\"WP16\", ascending=False).head(20)"
   ]
  },
  {
   "cell_type": "code",
   "execution_count": null,
   "id": "ce9d3ce2",
   "metadata": {},
   "outputs": [],
   "source": [
    "w.sort_values(\"WP16\", ascending=False).head(20)"
   ]
  },
  {
   "cell_type": "code",
   "execution_count": null,
   "id": "a9195ff3",
   "metadata": {},
   "outputs": [],
   "source": [
    "with open(\"output/build_data.json\", 'w') as f:\n",
    "    json.dump({\"build_date\": datetime.date.today().strftime('%Y-%m-%d'), \"data_date\":\" - 2023 Season - Day 132\"}, f)"
   ]
  },
  {
   "cell_type": "code",
   "execution_count": null,
   "id": "deeff058",
   "metadata": {},
   "outputs": [],
   "source": [
    "print(kendalltau(m.OffensiveRating, m.DefensiveRating))\n",
    "print(spearmanr(m.OffensiveRating, m.DefensiveRating))\n",
    "print(linregress(m.OffensiveRating, m.DefensiveRating).rvalue ** 2)"
   ]
  },
  {
   "cell_type": "code",
   "execution_count": null,
   "id": "ec7c0b59",
   "metadata": {},
   "outputs": [],
   "source": [
    "import os\n",
    "\n",
    "os.listdir(\"output\")"
   ]
  },
  {
   "cell_type": "code",
   "execution_count": null,
   "id": "593260f9",
   "metadata": {},
   "outputs": [],
   "source": [
    "import jupyter_black\n",
    "\n",
    "jupyter_black.load(lab=False)\n",
    "\n",
    "pr = \"W\"\n",
    "orig_df = pd.read_csv(f\"output/{pr}_data_complete.csv\")\n",
    "team_df = pd.read_csv(f\"data/{pr}Teams.csv\", usecols=[\"TeamName\", \"TeamID\"])\n",
    "joined = pd.merge(orig_df, team_df, how='inner', on=['TeamName'])\n",
    "print(joined.shape, orig_df.shape)"
   ]
  },
  {
   "cell_type": "code",
   "execution_count": null,
   "id": "7ac8fe42",
   "metadata": {},
   "outputs": [],
   "source": [
    "joined.to_csv(f\"output/{pr}_data_complete.csv\", index=False)"
   ]
  },
  {
   "cell_type": "code",
   "execution_count": null,
   "id": "830d7568",
   "metadata": {},
   "outputs": [],
   "source": [
    "import jupyter_black\n",
    "\n",
    "jupyter_black.load(lab=False)\n",
    "\n",
    "pr = \"M\"\n",
    "orig_df = pd.read_csv(f\"output/{pr}_data_complete.csv\")"
   ]
  },
  {
   "cell_type": "code",
   "execution_count": null,
   "id": "a5e1e9e1",
   "metadata": {},
   "outputs": [],
   "source": [
    "from power_ratings.tournament_dataset import probabilistic_estimate_df\n",
    "from power_ratings.pm_training import W_PRE_BASE, W_PRE_SCALER, M_PRE_BASE, M_PRE_SCALER\n",
    "\n",
    "orig_df"
   ]
  },
  {
   "cell_type": "code",
   "execution_count": null,
   "id": "78f50a48",
   "metadata": {},
   "outputs": [],
   "source": [
    "# group by year and get the nth best statline\n"
   ]
  },
  {
   "cell_type": "code",
   "execution_count": null,
   "id": "2d50d7c6",
   "metadata": {},
   "outputs": [],
   "source": [
    "# probabilistic_estimate_df(\n",
    "#     df_for_combined_rating, base=W_PRE_BASE, scaler=W_PRE_SCALER\n",
    "# )"
   ]
  },
  {
   "cell_type": "code",
   "execution_count": null,
   "id": "3abdcd8c",
   "metadata": {},
   "outputs": [],
   "source": [
    "from scipy.stats import spearmanr, pearsonr"
   ]
  },
  {
   "cell_type": "code",
   "execution_count": null,
   "id": "e119fdc7",
   "metadata": {},
   "outputs": [],
   "source": [
    "df_for_combined_rating[\"crank\"] = df_for_combined_rating.groupby(\"Season\")[\n",
    "    \"CombinedRating\"\n",
    "].rank(ascending=False)"
   ]
  },
  {
   "cell_type": "code",
   "execution_count": null,
   "id": "62107a90",
   "metadata": {},
   "outputs": [],
   "source": [
    "top_teams = df_for_combined_rating[df_for_combined_rating.crank < 64]"
   ]
  },
  {
   "cell_type": "code",
   "execution_count": null,
   "id": "02e57414",
   "metadata": {},
   "outputs": [],
   "source": [
    "pearsonr(\n",
    "    top_teams.CombinedRating.values,\n",
    "    top_teams.WinProbAgainstGoodTeam.values,\n",
    ")"
   ]
  },
  {
   "cell_type": "code",
   "execution_count": null,
   "id": "595c25e8",
   "metadata": {},
   "outputs": [],
   "source": [
    "top_teams.sort_values(\"WinProbAgainstGoodTeam\", ascending=False).head(20)"
   ]
  },
  {
   "cell_type": "code",
   "execution_count": null,
   "id": "1fb59069",
   "metadata": {},
   "outputs": [],
   "source": [
    "top_teams[top_teams.Season == 2023].sort_values(\n",
    "    \"WinProbAgainstGoodTeam\", ascending=False\n",
    ").head(49).drop(columns=[i for i in top_teams.columns if \"T2\" in i]).reset_index()"
   ]
  },
  {
   "cell_type": "code",
   "execution_count": null,
   "id": "2a3df209",
   "metadata": {},
   "outputs": [],
   "source": [
    "top_teams.groupby(\"Season\").std()[\"WinProbAgainstGoodTeam\"].sort_values()"
   ]
  },
  {
   "cell_type": "code",
   "execution_count": null,
   "id": "aee1d6b0",
   "metadata": {},
   "outputs": [],
   "source": [
    "import plotly.express as px\n",
    "\n",
    "px.scatter(df_for_combined_rating, x=\"WinProbAgainstGoodTeam\", y=\"CombinedRating\",\n",
    "           color=\"T1OffensiveRating\", hover_data=df_for_combined_rating.columns)"
   ]
  },
  {
   "cell_type": "code",
   "execution_count": null,
   "id": "69ad3265",
   "metadata": {},
   "outputs": [],
   "source": [
    "! python -m pip install pyreadr"
   ]
  },
  {
   "cell_type": "code",
   "execution_count": null,
   "id": "481bbb2b",
   "metadata": {},
   "outputs": [],
   "source": [
    "import pyreadr\n",
    "\n",
    "result = pyreadr.read_r(\"./data/team_box_2023.rds\")"
   ]
  },
  {
   "cell_type": "code",
   "execution_count": null,
   "id": "8eae27f4",
   "metadata": {},
   "outputs": [],
   "source": [
    "result[None].columns"
   ]
  },
  {
   "cell_type": "code",
   "execution_count": null,
   "id": "36c5e8e9",
   "metadata": {},
   "outputs": [],
   "source": [
    "with pm.Model() as m:\n",
    "    u = pm.Uniform('hi', lower=0, upper=3)"
   ]
  },
  {
   "cell_type": "code",
   "execution_count": null,
   "id": "c018c658",
   "metadata": {},
   "outputs": [],
   "source": []
  },
  {
   "cell_type": "code",
   "execution_count": null,
   "id": "95bd6e1a",
   "metadata": {},
   "outputs": [],
   "source": []
  }
 ],
 "metadata": {
  "kernelspec": {
   "display_name": "Python 3 (ipykernel)",
   "language": "python",
   "name": "python3"
  },
  "language_info": {
   "codemirror_mode": {
    "name": "ipython",
    "version": 3
   },
   "file_extension": ".py",
   "mimetype": "text/x-python",
   "name": "python",
   "nbconvert_exporter": "python",
   "pygments_lexer": "ipython3",
   "version": "3.9.16"
  }
 },
 "nbformat": 4,
 "nbformat_minor": 5
}
