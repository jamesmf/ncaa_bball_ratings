{
 "cells": [
  {
   "cell_type": "code",
   "execution_count": null,
   "id": "ddadb222",
   "metadata": {},
   "outputs": [],
   "source": [
    "# ! python -m pip install optuna"
   ]
  },
  {
   "cell_type": "code",
   "execution_count": null,
   "id": "2c324471",
   "metadata": {},
   "outputs": [],
   "source": [
    "import typing as T\n",
    "import numpy as np\n",
    "import pandas as pd\n",
    "\n",
    "from scipy.stats import kendalltau, spearmanr\n",
    "import plotly.express as px\n",
    "import sklearn.linear_model\n",
    "import sklearn.ensemble\n",
    "import sklearn.neural_network\n",
    "from sklearn.gaussian_process import GaussianProcessClassifier\n",
    "from sklearn.compose import ColumnTransformer\n",
    "from sklearn.pipeline import Pipeline\n",
    "from sklearn.preprocessing import RobustScaler, MinMaxScaler\n",
    "import sklearn.metrics\n",
    "import sklearn.impute\n",
    "import scipy.stats\n",
    "import mlflow\n",
    "import jupyter_black\n",
    "\n",
    "import optuna\n",
    "\n",
    "from power_ratings.tournament_dataset import MMadnessDataset\n",
    "import power_ratings.tournament_dataset as td\n",
    "\n",
    "from power_ratings.tuning import evaluate_model_on_years \n",
    "\n",
    "jupyter_black.load(lab=False)"
   ]
  },
  {
   "cell_type": "code",
   "execution_count": null,
   "id": "abf4d0ae",
   "metadata": {},
   "outputs": [],
   "source": [
    "PREFIX = \"M\"\n",
    "MAX_YEAR = 2023\n",
    "\n",
    "# mlflow.sklearn.autolog(log_models=False)\n",
    "mlflow.set_experiment(f\"optuna-{PREFIX}-{MAX_YEAR}\")"
   ]
  },
  {
   "cell_type": "code",
   "execution_count": null,
   "id": "0879e307",
   "metadata": {},
   "outputs": [],
   "source": []
  },
  {
   "cell_type": "code",
   "execution_count": null,
   "id": "32698985",
   "metadata": {},
   "outputs": [],
   "source": [
    "ds_params = {\n",
    "    \"holdout_seasons\": None,\n",
    "    \"prefix\": PREFIX,\n",
    "    \"start_year\": 2003,\n",
    "    \"extra_features\": [\n",
    "        \"T1CombinedRating\",\n",
    "        \"T1PossessionEfficiencyFactor\",\n",
    "        \"T1EloWithScore\",\n",
    "        \"T1EloWinLoss\",\n",
    "        \"T1EloDay30WithScore\",\n",
    "        \"T1EloDay30WinLoss\",\n",
    "        \"T1WP16\",\n",
    "        \"T1Seed\",\n",
    "        \"T1EloDelta21Days\",\n",
    "        \"T2WP16\",\n",
    "        \"T2CombinedRating\",\n",
    "        \"T2PossessionEfficiencyFactor\",\n",
    "        \"T2EloWithScore\",\n",
    "        \"T2EloWinLoss\",\n",
    "        \"T2EloDay30WithScore\",\n",
    "        \"T2EloDay30WinLoss\",\n",
    "        \"T2Seed\",\n",
    "        \"T2EloDelta21Days\",\n",
    "        \"round\",\n",
    "    ],\n",
    "    \"holdout_strategy\": \"prior\",\n",
    "}\n",
    "years = (\n",
    "    2017,\n",
    "    2018,\n",
    "    2019,\n",
    "    2021,\n",
    "    2022,\n",
    ")\n",
    "\n",
    "all_datasets = {}\n",
    "all_datasets[\"current\"] = MMadnessDataset(\n",
    "    **ds_params,\n",
    ")\n",
    "for year in years:\n",
    "    print(f\"creating {year} dataset\")\n",
    "    ds_params_new = ds_params.copy()\n",
    "    ds_params_new[\"holdout_seasons\"] = (year,)\n",
    "\n",
    "    ds = MMadnessDataset(\n",
    "        **ds_params_new,\n",
    "    )\n",
    "    all_datasets[year] = ds"
   ]
  },
  {
   "cell_type": "code",
   "execution_count": null,
   "id": "10bf45fc-61a6-4228-b490-4627c0c1cb25",
   "metadata": {},
   "outputs": [],
   "source": [
    "import power_ratings as pr\n",
    "# import importlib as imp\n",
    "# imp.reload(pr)"
   ]
  },
  {
   "cell_type": "code",
   "execution_count": null,
   "id": "fbd0c082",
   "metadata": {
    "scrolled": true
   },
   "outputs": [],
   "source": [
    "study = optuna.create_study(direction=\"minimize\")\n",
    "study.optimize(\n",
    "    lambda trial: pr.tuning.evaluate_model_on_years(trial, all_datasets, years), n_trials=2000\n",
    ")\n",
    "print(study.best_trial)"
   ]
  },
  {
   "cell_type": "code",
   "execution_count": null,
   "id": "b623499a-9295-4911-bb91-c5b622464c01",
   "metadata": {},
   "outputs": [],
   "source": []
  },
  {
   "cell_type": "code",
   "execution_count": null,
   "id": "286fa518",
   "metadata": {},
   "outputs": [],
   "source": [
    "study.trials_dataframe().sort_values(\"value\")"
   ]
  },
  {
   "cell_type": "code",
   "execution_count": null,
   "id": "f79643eb",
   "metadata": {},
   "outputs": [],
   "source": [
    "ds.X"
   ]
  },
  {
   "cell_type": "code",
   "execution_count": null,
   "id": "493f6cb1-24f1-4f69-9610-bee6527fccbd",
   "metadata": {},
   "outputs": [],
   "source": []
  },
  {
   "cell_type": "code",
   "execution_count": null,
   "id": "4206a038-19a2-4af3-9b9a-53330b71054d",
   "metadata": {},
   "outputs": [],
   "source": []
  }
 ],
 "metadata": {
  "kernelspec": {
   "display_name": "Python 3 (ipykernel)",
   "language": "python",
   "name": "python3"
  },
  "language_info": {
   "codemirror_mode": {
    "name": "ipython",
    "version": 3
   },
   "file_extension": ".py",
   "mimetype": "text/x-python",
   "name": "python",
   "nbconvert_exporter": "python",
   "pygments_lexer": "ipython3",
   "version": "3.10.13"
  }
 },
 "nbformat": 4,
 "nbformat_minor": 5
}
